{
 "cells": [
  {
   "cell_type": "code",
   "execution_count": 4,
   "id": "1557a1b7",
   "metadata": {},
   "outputs": [],
   "source": [
    "import time\n",
    "import pandas as pd\n",
    "import re\n",
    "from selenium import webdriver\n",
    "from selenium.webdriver.common.by import By\n",
    "from selenium.webdriver.chrome.service import Service\n",
    "from selenium.common.exceptions import WebDriverException"
   ]
  },
  {
   "cell_type": "code",
   "execution_count": 5,
   "id": "2efd13f1",
   "metadata": {},
   "outputs": [],
   "source": [
    "def getPlaylist(playlist_tag, num_max):\n",
    "\n",
    "    pageIndex = 1 # page 번호 초기화\n",
    "    tmp_Playlist = []  # 플레이리스트 리스트 초기화\n",
    "\n",
    "    while len(tmp_Playlist) < num_max:\n",
    "        # 웹페이지 로드 - url에 tag와 page 넣어서 이동\n",
    "        driver.get(f'https://www.melon.com/dj/djfinder/djfinder_inform.htm?djSearchType=T&djSearchKeyword={playlist_tag}#params[djSearchType]=T&params[djSearchKeyword]=%23{playlist_tag}&params[orderBy]=POP&params[pagingFlag]=Y&params[tagSearchType]=S&po=pageObj&startIndex={pageIndex}')\n",
    "        time.sleep(5)\n",
    "\n",
    "        playlist_entries = driver.find_elements(By.XPATH, '//*[@id=\"djPlylstList\"]/div/ul/li')\n",
    "        print(playlist_entries[1])\n",
    "        if not playlist_entries:\n",
    "            # 플레이리스트가 없는 경우 종료\n",
    "            break\n",
    "\n",
    "        for pl_entry in playlist_entries:\n",
    "            print(pl_entry)\n",
    "            # plylstSeq : 플레이리스트 고유번호\n",
    "            # plylstSeq를 이용해 url 저장\n",
    "            plylstSeq = pl_entry.find_element(By.XPATH, './div[2]/div[2]/button').get_attribute('data-djcol-no')\n",
    "            pl_href = f'https://www.melon.com/mymusic/dj/mymusicdjplaylistview_inform.htm?plylstSeq={plylstSeq}'\n",
    "            \n",
    "            try:\n",
    "                pl_title = pl_entry.find_element(By.XPATH, './div[2]/div[1]/a[2]').text\n",
    "                pl_title = pl_title.apply(lambda x: re.sub('[^ㄱ-ㅎㅏ-ㅣ가-힣a-zA-Z0-9\\s!@#$%^&*_+=[\\]{}|]', '', str(x)))\n",
    "            except Exception as e:\n",
    "                pl_title = ''\n",
    "                print(str(e))\n",
    "\n",
    "            # pl_len : 플레이리스트 길이\n",
    "            pl_len = pl_entry.find_element(By.XPATH, './div[2]/div[2]/span').text.replace('곡','')\n",
    "            # pl_len : 플레이리스트 태그\n",
    "            pl_tag = pl_entry.find_element(By.XPATH, './div[2]/div[3]/a/span').text\n",
    "            \n",
    "            # 각각의 플레이리스트마다 정보 - [플리id, 플리이름, 플리링크, 플리길이, 플리정보]\n",
    "            info_Playlist = [plylstSeq, pl_title, pl_href, pl_len, pl_tag]\n",
    "\n",
    "            # 양상마다 tmp_Playlist 를 전체 All_Playlist에 저장\n",
    "            tmp_Playlist.append(info_Playlist)\n",
    "\n",
    "        pageIndex += 20\n",
    "\n",
    "    return tmp_Playlist"
   ]
  },
  {
   "cell_type": "code",
   "execution_count": null,
   "id": "889f8521",
   "metadata": {},
   "outputs": [],
   "source": [
    "## 플리 추천\n",
    "playlist_tag = ['우울', '슬픔', '위로', '외로움', '힐링', '편안', '잔잔', '산책', \n",
    "                            '무기력', '지칠때', '충전', '힐링', '평화', '피로', '잠', '불면',\n",
    "                            '짜증', '집중', '자존감', '울고싶은날', '절망', '죽고싶을때', '불안']\n",
    "\n",
    "playlist_dict = {\n",
    "                                 '우울': playlist_tag[0],  '슬픔': playlist_tag[1, 2, 19],  '외로움': playlist_tag[3, 4],  '분노': playlist_tag[16],  '무기력': playlist_tag[8, 9, 10],  '의욕상실': playlist_tag[8, 9, 10],\n",
    "                                 '식욕저하': playlist_tag[8, 9, 10],  '식욕증가': [8, 9, 10],  '감정조절이상': playlist_tag[12],  '불면': playlist_tag[13, 14],  '초조': playlist_tag[5, 6, 7],  '피로': playlist_tag[13, 14, 15],\n",
    "                                 '죄책감': playlist_tag[2],  '집중력저하': playlist_tag[17],  '자신감저하': playlist_tag[18],  '자존감저하': playlist_tag[18],  '절망': playlist_tag[18, 2],  '자살': playlist_tag[20],  '불안': playlist_tag[22, 5]\n",
    "                            }"
   ]
  },
  {
   "cell_type": "code",
   "execution_count": null,
   "id": "ccc69dbc",
   "metadata": {},
   "outputs": [],
   "source": [
    "num_max = 200\n",
    "\n",
    "CHROMEDRIVER_PATH = './chromedriver.exe' # ChromeDriver 설치 위치\n",
    "service = Service(CHROMEDRIVER_PATH)\n",
    "driver = webdriver.Chrome(service=service)\n",
    "\n",
    "# 빈 리스트 생성\n",
    "All_Playlist = []  # 전체 플레이리스트 리스트\n",
    "\n",
    "for t in playlist_tag:\n",
    "    tmp_list = getPlaylist(t, num_max)\n",
    "    All_Playlist.append(tmp_list)\n",
    "\n",
    "driver.quit()"
   ]
  },
  {
   "cell_type": "code",
   "execution_count": null,
   "id": "62533845",
   "metadata": {
    "scrolled": false
   },
   "outputs": [],
   "source": [
    "#  csv 저장 \n",
    "for i in range(len(All_Playlist)):\n",
    "    df = pd.DataFrame(All_Playlist, columns=['id', 'playlist_name', 'href', 'num of songs', 'hashtag'])\n",
    "    df.to_csv(f'{file_name}.csv', encoding='utf-8', index=False)"
   ]
  },
  {
   "cell_type": "code",
   "execution_count": null,
   "id": "f29a2f6e",
   "metadata": {
    "scrolled": true
   },
   "outputs": [],
   "source": [
    "# # 저장 후 nan 확인해보기\n",
    "import pandas as pd\n",
    "\n",
    "for file_name in playlist_tag:\n",
    "    # 데이터프레임 불러오기\n",
    "    df = pd.read_csv(f'{file_name}.csv')\n",
    "    nan_check = df.isnull().sum()\n",
    "    if nan_check.any() == True:\n",
    "        print(\"NaN\")"
   ]
  },
  {
   "cell_type": "code",
   "execution_count": null,
   "id": "66b8991b",
   "metadata": {},
   "outputs": [],
   "source": []
  },
  {
   "cell_type": "code",
   "execution_count": null,
   "id": "9967cd5d",
   "metadata": {},
   "outputs": [],
   "source": []
  }
 ],
 "metadata": {
  "kernelspec": {
   "display_name": "preproj_kernel",
   "language": "python",
   "name": "preproj"
  },
  "language_info": {
   "codemirror_mode": {
    "name": "ipython",
    "version": 3
   },
   "file_extension": ".py",
   "mimetype": "text/x-python",
   "name": "python",
   "nbconvert_exporter": "python",
   "pygments_lexer": "ipython3",
   "version": "3.9.16"
  }
 },
 "nbformat": 4,
 "nbformat_minor": 5
}

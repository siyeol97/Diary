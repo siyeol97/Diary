{
 "cells": [
  {
   "cell_type": "code",
   "execution_count": 1,
   "id": "62bd9ec0",
   "metadata": {},
   "outputs": [
    {
     "ename": "Error",
     "evalue": "Destination path 'C:/pknu_6/우울증진단/output\\audio\\300_AUDIO.wav' already exists",
     "output_type": "error",
     "traceback": [
      "\u001b[1;31m---------------------------------------------------------------------------\u001b[0m",
      "\u001b[1;31mError\u001b[0m                                     Traceback (most recent call last)",
      "Cell \u001b[1;32mIn[1], line 31\u001b[0m\n\u001b[0;32m     28\u001b[0m out_path \u001b[38;5;241m=\u001b[39m \u001b[38;5;124m'\u001b[39m\u001b[38;5;124mC:/pknu_6/우울증진단/output\u001b[39m\u001b[38;5;124m'\u001b[39m\n\u001b[0;32m     30\u001b[0m \u001b[38;5;66;03m# move .wav and *transcript.csv files in src_dir to appropriate folders\u001b[39;00m\n\u001b[1;32m---> 31\u001b[0m \u001b[43mmove_files\u001b[49m\u001b[43m(\u001b[49m\u001b[43msrc_dir\u001b[49m\u001b[43m,\u001b[49m\u001b[43m \u001b[49m\u001b[43mout_path\u001b[49m\u001b[43m)\u001b[49m\n",
      "Cell \u001b[1;32mIn[1], line 19\u001b[0m, in \u001b[0;36mmove_files\u001b[1;34m(src_dir, out_dir)\u001b[0m\n\u001b[0;32m     17\u001b[0m \u001b[38;5;28;01mfor\u001b[39;00m file \u001b[38;5;129;01min\u001b[39;00m files:\n\u001b[0;32m     18\u001b[0m     \u001b[38;5;28;01mif\u001b[39;00m file\u001b[38;5;241m.\u001b[39mendswith(\u001b[38;5;124m'\u001b[39m\u001b[38;5;124m.wav\u001b[39m\u001b[38;5;124m'\u001b[39m):\n\u001b[1;32m---> 19\u001b[0m         \u001b[43mshutil\u001b[49m\u001b[38;5;241;43m.\u001b[39;49m\u001b[43mmove\u001b[49m\u001b[43m(\u001b[49m\u001b[43mos\u001b[49m\u001b[38;5;241;43m.\u001b[39;49m\u001b[43mpath\u001b[49m\u001b[38;5;241;43m.\u001b[39;49m\u001b[43mjoin\u001b[49m\u001b[43m(\u001b[49m\u001b[43mroot\u001b[49m\u001b[43m,\u001b[49m\u001b[43m \u001b[49m\u001b[43mfile\u001b[49m\u001b[43m)\u001b[49m\u001b[43m,\u001b[49m\u001b[43m \u001b[49m\u001b[43maudio_dir\u001b[49m\u001b[43m)\u001b[49m\n\u001b[0;32m     20\u001b[0m     \u001b[38;5;28;01melif\u001b[39;00m fnmatch\u001b[38;5;241m.\u001b[39mfnmatch(file\u001b[38;5;241m.\u001b[39mlower(), \u001b[38;5;124m'\u001b[39m\u001b[38;5;124m*transcript.csv\u001b[39m\u001b[38;5;124m'\u001b[39m):\n\u001b[0;32m     21\u001b[0m         shutil\u001b[38;5;241m.\u001b[39mmove(os\u001b[38;5;241m.\u001b[39mpath\u001b[38;5;241m.\u001b[39mjoin(root, file), transcripts_dir)\n",
      "File \u001b[1;32m~\\anaconda3\\envs\\pknu_SF5\\lib\\shutil.py:823\u001b[0m, in \u001b[0;36mmove\u001b[1;34m(src, dst, copy_function)\u001b[0m\n\u001b[0;32m    820\u001b[0m     real_dst \u001b[38;5;241m=\u001b[39m os\u001b[38;5;241m.\u001b[39mpath\u001b[38;5;241m.\u001b[39mjoin(dst, _basename(src))\n\u001b[0;32m    822\u001b[0m     \u001b[38;5;28;01mif\u001b[39;00m os\u001b[38;5;241m.\u001b[39mpath\u001b[38;5;241m.\u001b[39mexists(real_dst):\n\u001b[1;32m--> 823\u001b[0m         \u001b[38;5;28;01mraise\u001b[39;00m Error(\u001b[38;5;124m\"\u001b[39m\u001b[38;5;124mDestination path \u001b[39m\u001b[38;5;124m'\u001b[39m\u001b[38;5;132;01m%s\u001b[39;00m\u001b[38;5;124m'\u001b[39m\u001b[38;5;124m already exists\u001b[39m\u001b[38;5;124m\"\u001b[39m \u001b[38;5;241m%\u001b[39m real_dst)\n\u001b[0;32m    824\u001b[0m \u001b[38;5;28;01mtry\u001b[39;00m:\n\u001b[0;32m    825\u001b[0m     os\u001b[38;5;241m.\u001b[39mrename(src, real_dst)\n",
      "\u001b[1;31mError\u001b[0m: Destination path 'C:/pknu_6/우울증진단/output\\audio\\300_AUDIO.wav' already exists"
     ]
    }
   ],
   "source": [
    "# wav퍼앍허 transcript.csv 디렉토리에 저장\n",
    "import fnmatch\n",
    "import os\n",
    "import zipfile\n",
    "import tarfile\n",
    "import os\n",
    "import shutil\n",
    "import fnmatch\n",
    "\n",
    "def move_files(src_dir, out_dir):\n",
    "    audio_dir = os.path.join(out_dir, 'audio')\n",
    "    transcripts_dir = os.path.join(out_dir, 'transcripts')\n",
    "    os.makedirs(audio_dir, exist_ok=True)\n",
    "    os.makedirs(transcripts_dir, exist_ok=True)\n",
    "\n",
    "    for root, dirs, files in os.walk(src_dir):\n",
    "        for file in files:\n",
    "            if file.endswith('.wav'):\n",
    "                shutil.move(os.path.join(root, file), audio_dir)\n",
    "            elif fnmatch.fnmatch(file.lower(), '*transcript.csv'):\n",
    "                shutil.move(os.path.join(root, file), transcripts_dir)\n",
    "\n",
    "if __name__ == '__main__':\n",
    "    # directory containing unzipped DAIC-WOZ files\n",
    "    src_dir = 'D:/daic-woz!'\n",
    "\n",
    "    # directory where audio and transcripts folders will be created\n",
    "    out_path = 'C:/pknu_6/우울증진단/output'\n",
    "\n",
    "    # move .wav and *transcript.csv files in src_dir to appropriate folders\n",
    "    move_files(src_dir, out_path)\n"
   ]
  },
  {
   "cell_type": "markdown",
   "id": "3f4d883c",
   "metadata": {},
   "source": [
    "### 침묵제거, ellie 목소리 제거"
   ]
  },
  {
   "cell_type": "code",
   "execution_count": 2,
   "id": "392c5a44",
   "metadata": {},
   "outputs": [
    {
     "name": "stderr",
     "output_type": "stream",
     "text": [
      "C:\\Users\\Administrator\\anaconda3\\envs\\pknu_SF5\\lib\\site-packages\\pyAudioAnalysis\\audioBasicIO.py:99: WavFileWarning: Reached EOF prematurely; finished at 20752044 bytes, expected 166016044 bytes from header.\n",
      "  sampling_rate, signal = wavfile.read(input_file) # from scipy.io\n",
      "C:\\Users\\Administrator\\anaconda3\\envs\\pknu_SF5\\lib\\site-packages\\pyAudioAnalysis\\audioBasicIO.py:99: WavFileWarning: Reached EOF prematurely; finished at 26364844 bytes, expected 210918444 bytes from header.\n",
      "  sampling_rate, signal = wavfile.read(input_file) # from scipy.io\n",
      "C:\\Users\\Administrator\\anaconda3\\envs\\pknu_SF5\\lib\\site-packages\\pyAudioAnalysis\\audioBasicIO.py:99: WavFileWarning: Reached EOF prematurely; finished at 24281644 bytes, expected 194252844 bytes from header.\n",
      "  sampling_rate, signal = wavfile.read(input_file) # from scipy.io\n"
     ]
    },
    {
     "ename": "KeyboardInterrupt",
     "evalue": "",
     "output_type": "error",
     "traceback": [
      "\u001b[1;31m---------------------------------------------------------------------------\u001b[0m",
      "\u001b[1;31mKeyboardInterrupt\u001b[0m                         Traceback (most recent call last)",
      "Cell \u001b[1;32mIn[2], line 49\u001b[0m\n\u001b[0;32m     47\u001b[0m \u001b[38;5;28;01mif\u001b[39;00m file\u001b[38;5;241m.\u001b[39mendswith(\u001b[38;5;124m'\u001b[39m\u001b[38;5;124m.wav\u001b[39m\u001b[38;5;124m'\u001b[39m):\n\u001b[0;32m     48\u001b[0m     file_name \u001b[38;5;241m=\u001b[39m os\u001b[38;5;241m.\u001b[39mpath\u001b[38;5;241m.\u001b[39mjoin(root, file)\n\u001b[1;32m---> 49\u001b[0m     \u001b[43mremove_silence\u001b[49m\u001b[43m(\u001b[49m\u001b[43mfile_name\u001b[49m\u001b[43m,\u001b[49m\u001b[43m \u001b[49m\u001b[43mout_path\u001b[49m\u001b[43m)\u001b[49m\n",
      "Cell \u001b[1;32mIn[2], line 17\u001b[0m, in \u001b[0;36mremove_silence\u001b[1;34m(filename, out_dir, smoothing, weight, store_segments, plot)\u001b[0m\n\u001b[0;32m     14\u001b[0m     os\u001b[38;5;241m.\u001b[39mmakedirs(participant_dir)\n\u001b[0;32m     16\u001b[0m [fs, x] \u001b[38;5;241m=\u001b[39m aIO\u001b[38;5;241m.\u001b[39mread_audio_file(filename)\n\u001b[1;32m---> 17\u001b[0m segments \u001b[38;5;241m=\u001b[39m \u001b[43maS\u001b[49m\u001b[38;5;241;43m.\u001b[39;49m\u001b[43msilence_removal\u001b[49m\u001b[43m(\u001b[49m\u001b[43mx\u001b[49m\u001b[43m,\u001b[49m\u001b[43m \u001b[49m\u001b[43mfs\u001b[49m\u001b[43m,\u001b[49m\u001b[43m \u001b[49m\u001b[38;5;241;43m0.020\u001b[39;49m\u001b[43m,\u001b[49m\u001b[43m \u001b[49m\u001b[38;5;241;43m0.020\u001b[39;49m\u001b[43m,\u001b[49m\u001b[43m \u001b[49m\u001b[43msmooth_window\u001b[49m\u001b[38;5;241;43m=\u001b[39;49m\u001b[43msmoothing\u001b[49m\u001b[43m,\u001b[49m\u001b[43m \u001b[49m\u001b[43mweight\u001b[49m\u001b[38;5;241;43m=\u001b[39;49m\u001b[43mweight\u001b[49m\u001b[43m,\u001b[49m\u001b[43m \u001b[49m\u001b[43mplot\u001b[49m\u001b[38;5;241;43m=\u001b[39;49m\u001b[43mplot\u001b[49m\u001b[43m)\u001b[49m\n\u001b[0;32m     19\u001b[0m out_file \u001b[38;5;241m=\u001b[39m \u001b[38;5;124m'\u001b[39m\u001b[38;5;132;01m{}\u001b[39;00m\u001b[38;5;124m_no_silence.wav\u001b[39m\u001b[38;5;124m'\u001b[39m\u001b[38;5;241m.\u001b[39mformat(participant_id)\n\u001b[0;32m     20\u001b[0m x_no_silence \u001b[38;5;241m=\u001b[39m np\u001b[38;5;241m.\u001b[39marray([], dtype\u001b[38;5;241m=\u001b[39m\u001b[38;5;124m'\u001b[39m\u001b[38;5;124mint16\u001b[39m\u001b[38;5;124m'\u001b[39m)\n",
      "File \u001b[1;32m~\\anaconda3\\envs\\pknu_SF5\\lib\\site-packages\\pyAudioAnalysis\\audioSegmentation.py:703\u001b[0m, in \u001b[0;36msilence_removal\u001b[1;34m(signal, sampling_rate, st_win, st_step, smooth_window, weight, plot)\u001b[0m\n\u001b[0;32m    701\u001b[0m \u001b[38;5;66;03m# Step 1: feature extraction\u001b[39;00m\n\u001b[0;32m    702\u001b[0m signal \u001b[38;5;241m=\u001b[39m audioBasicIO\u001b[38;5;241m.\u001b[39mstereo_to_mono(signal)\n\u001b[1;32m--> 703\u001b[0m st_feats, _ \u001b[38;5;241m=\u001b[39m \u001b[43mstf\u001b[49m\u001b[38;5;241;43m.\u001b[39;49m\u001b[43mfeature_extraction\u001b[49m\u001b[43m(\u001b[49m\u001b[43msignal\u001b[49m\u001b[43m,\u001b[49m\u001b[43m \u001b[49m\u001b[43msampling_rate\u001b[49m\u001b[43m,\u001b[49m\n\u001b[0;32m    704\u001b[0m \u001b[43m                                     \u001b[49m\u001b[43mst_win\u001b[49m\u001b[43m \u001b[49m\u001b[38;5;241;43m*\u001b[39;49m\u001b[43m \u001b[49m\u001b[43msampling_rate\u001b[49m\u001b[43m,\u001b[49m\n\u001b[0;32m    705\u001b[0m \u001b[43m                                     \u001b[49m\u001b[43mst_step\u001b[49m\u001b[43m \u001b[49m\u001b[38;5;241;43m*\u001b[39;49m\u001b[43m \u001b[49m\u001b[43msampling_rate\u001b[49m\u001b[43m)\u001b[49m\n\u001b[0;32m    707\u001b[0m \u001b[38;5;66;03m# Step 2: train binary svm classifier of low vs high energy frames\u001b[39;00m\n\u001b[0;32m    708\u001b[0m \u001b[38;5;66;03m# keep only the energy short-term sequence (2nd feature)\u001b[39;00m\n\u001b[0;32m    709\u001b[0m st_energy \u001b[38;5;241m=\u001b[39m st_feats[\u001b[38;5;241m1\u001b[39m, :]\n",
      "File \u001b[1;32m~\\anaconda3\\envs\\pknu_SF5\\lib\\site-packages\\pyAudioAnalysis\\ShortTermFeatures.py:617\u001b[0m, in \u001b[0;36mfeature_extraction\u001b[1;34m(signal, sampling_rate, window, step, deltas)\u001b[0m\n\u001b[0;32m    614\u001b[0m current_position \u001b[38;5;241m=\u001b[39m current_position \u001b[38;5;241m+\u001b[39m step\n\u001b[0;32m    616\u001b[0m \u001b[38;5;66;03m# get fft magnitude\u001b[39;00m\n\u001b[1;32m--> 617\u001b[0m fft_magnitude \u001b[38;5;241m=\u001b[39m \u001b[38;5;28mabs\u001b[39m(\u001b[43mfft\u001b[49m\u001b[43m(\u001b[49m\u001b[43mx\u001b[49m\u001b[43m)\u001b[49m)\n\u001b[0;32m    619\u001b[0m \u001b[38;5;66;03m# normalize fft\u001b[39;00m\n\u001b[0;32m    620\u001b[0m fft_magnitude \u001b[38;5;241m=\u001b[39m fft_magnitude[\u001b[38;5;241m0\u001b[39m:num_fft]\n",
      "File \u001b[1;32m~\\anaconda3\\envs\\pknu_SF5\\lib\\site-packages\\scipy\\fftpack\\basic.py:87\u001b[0m, in \u001b[0;36mfft\u001b[1;34m(x, n, axis, overwrite_x)\u001b[0m\n\u001b[0;32m     12\u001b[0m \u001b[38;5;28;01mdef\u001b[39;00m \u001b[38;5;21mfft\u001b[39m(x, n\u001b[38;5;241m=\u001b[39m\u001b[38;5;28;01mNone\u001b[39;00m, axis\u001b[38;5;241m=\u001b[39m\u001b[38;5;241m-\u001b[39m\u001b[38;5;241m1\u001b[39m, overwrite_x\u001b[38;5;241m=\u001b[39m\u001b[38;5;28;01mFalse\u001b[39;00m):\n\u001b[0;32m     13\u001b[0m \u001b[38;5;250m    \u001b[39m\u001b[38;5;124;03m\"\"\"\u001b[39;00m\n\u001b[0;32m     14\u001b[0m \u001b[38;5;124;03m    Return discrete Fourier transform of real or complex sequence.\u001b[39;00m\n\u001b[0;32m     15\u001b[0m \n\u001b[1;32m   (...)\u001b[0m\n\u001b[0;32m     85\u001b[0m \n\u001b[0;32m     86\u001b[0m \u001b[38;5;124;03m    \"\"\"\u001b[39;00m\n\u001b[1;32m---> 87\u001b[0m     \u001b[38;5;28;01mreturn\u001b[39;00m \u001b[43m_pocketfft\u001b[49m\u001b[38;5;241;43m.\u001b[39;49m\u001b[43mfft\u001b[49m\u001b[43m(\u001b[49m\u001b[43mx\u001b[49m\u001b[43m,\u001b[49m\u001b[43m \u001b[49m\u001b[43mn\u001b[49m\u001b[43m,\u001b[49m\u001b[43m \u001b[49m\u001b[43maxis\u001b[49m\u001b[43m,\u001b[49m\u001b[43m \u001b[49m\u001b[38;5;28;43;01mNone\u001b[39;49;00m\u001b[43m,\u001b[49m\u001b[43m \u001b[49m\u001b[43moverwrite_x\u001b[49m\u001b[43m)\u001b[49m\n",
      "File \u001b[1;32m~\\anaconda3\\envs\\pknu_SF5\\lib\\site-packages\\scipy\\fft\\_pocketfft\\basic.py:31\u001b[0m, in \u001b[0;36mc2c\u001b[1;34m(forward, x, n, axis, norm, overwrite_x, workers, plan)\u001b[0m\n\u001b[0;32m     26\u001b[0m     \u001b[38;5;28;01mraise\u001b[39;00m \u001b[38;5;167;01mValueError\u001b[39;00m(\u001b[38;5;124m\"\u001b[39m\u001b[38;5;124minvalid number of data points (\u001b[39m\u001b[38;5;132;01m{0}\u001b[39;00m\u001b[38;5;124m) specified\u001b[39m\u001b[38;5;124m\"\u001b[39m\n\u001b[0;32m     27\u001b[0m                      \u001b[38;5;241m.\u001b[39mformat(tmp\u001b[38;5;241m.\u001b[39mshape[axis]))\n\u001b[0;32m     29\u001b[0m out \u001b[38;5;241m=\u001b[39m (tmp \u001b[38;5;28;01mif\u001b[39;00m overwrite_x \u001b[38;5;129;01mand\u001b[39;00m tmp\u001b[38;5;241m.\u001b[39mdtype\u001b[38;5;241m.\u001b[39mkind \u001b[38;5;241m==\u001b[39m \u001b[38;5;124m'\u001b[39m\u001b[38;5;124mc\u001b[39m\u001b[38;5;124m'\u001b[39m \u001b[38;5;28;01melse\u001b[39;00m \u001b[38;5;28;01mNone\u001b[39;00m)\n\u001b[1;32m---> 31\u001b[0m \u001b[38;5;28;01mreturn\u001b[39;00m \u001b[43mpfft\u001b[49m\u001b[38;5;241;43m.\u001b[39;49m\u001b[43mc2c\u001b[49m\u001b[43m(\u001b[49m\u001b[43mtmp\u001b[49m\u001b[43m,\u001b[49m\u001b[43m \u001b[49m\u001b[43m(\u001b[49m\u001b[43maxis\u001b[49m\u001b[43m,\u001b[49m\u001b[43m)\u001b[49m\u001b[43m,\u001b[49m\u001b[43m \u001b[49m\u001b[43mforward\u001b[49m\u001b[43m,\u001b[49m\u001b[43m \u001b[49m\u001b[43mnorm\u001b[49m\u001b[43m,\u001b[49m\u001b[43m \u001b[49m\u001b[43mout\u001b[49m\u001b[43m,\u001b[49m\u001b[43m \u001b[49m\u001b[43mworkers\u001b[49m\u001b[43m)\u001b[49m\n",
      "\u001b[1;31mKeyboardInterrupt\u001b[0m: "
     ]
    }
   ],
   "source": [
    "import os\n",
    "from pyAudioAnalysis import audioBasicIO as aIO\n",
    "from pyAudioAnalysis import audioSegmentation as aS\n",
    "import scipy.io.wavfile as wavfile\n",
    "import numpy as np\n",
    "\n",
    "\n",
    "def remove_silence(filename, out_dir, smoothing=1.0, weight=0.3, store_segments=False, plot=False):\n",
    "    participant_id = 'P' + os.path.basename(filename).split('_')[0]  # PXXX\n",
    "    if can_segment(participant_id):\n",
    "        # 참가자별 음성 파일이 저장될 디렉토리 생성\n",
    "        participant_dir = os.path.join(out_dir, participant_id)\n",
    "        if not os.path.exists(participant_dir):\n",
    "            os.makedirs(participant_dir)\n",
    "\n",
    "        [fs, x] = aIO.read_audio_file(filename)\n",
    "        segments = aS.silence_removal(x, fs, 0.020, 0.020, smooth_window=smoothing, weight=weight, plot=plot)\n",
    "\n",
    "        out_file = '{}_no_silence.wav'.format(participant_id)\n",
    "        x_no_silence = np.array([], dtype='int16')\n",
    "        for s in segments:\n",
    "            segment_no_silence = x[int(fs * s[0]):int(fs * s[1])]\n",
    "            if store_segments:  # 묵음이 제거된 음성 세그먼트를 참가자별 폴더 내에 WAV 파일로 저장\n",
    "                segment_name = \"{:s}_{:.2f}-{:.2f}.wav\".format(participant_id, s[0], s[1])\n",
    "                wavfile.write(os.path.join(participant_dir, segment_name), fs, segment_no_silence)\n",
    "            x_no_silence = np.append(x_no_silence, segment_no_silence)\n",
    "\n",
    "        # 묵음이 제거된 음성 파일을 참가자별 폴더 내에 저장\n",
    "        wavfile.write(os.path.join(participant_dir, out_file), fs, x_no_silence)\n",
    "\n",
    "\n",
    "def can_segment(participant_id):\n",
    "    troubled = {}\n",
    "    return participant_id not in troubled\n",
    "\n",
    "\n",
    "if __name__ == '__main__':\n",
    "    # 원시 WAV 파일이 있는 디렉토리\n",
    "    dir_name = 'C:/pknu_6/우울증진단/output/audio'\n",
    "\n",
    "    # 참가자별 폴더가 생성될 디렉토리 및 가공된 음성 파일이 저장될 디렉토리\n",
    "    out_path = 'C:/pknu_6/우울증진단/output/interim'\n",
    "\n",
    "    # dir_name의 WAV 파일들을 반복하며 가공된 음성 파일 생성\n",
    "    for root, dirs, files in os.walk(dir_name):\n",
    "        for file in files:\n",
    "            if file.endswith('.wav'):\n",
    "                file_name = os.path.join(root, file)\n",
    "                remove_silence(file_name, out_path)"
   ]
  },
  {
   "cell_type": "code",
   "execution_count": null,
   "id": "f9da6fa3",
   "metadata": {},
   "outputs": [],
   "source": []
  }
 ],
 "metadata": {
  "kernelspec": {
   "display_name": "pknu_SF5_kernel",
   "language": "python",
   "name": "pknu_sf5"
  },
  "language_info": {
   "codemirror_mode": {
    "name": "ipython",
    "version": 3
   },
   "file_extension": ".py",
   "mimetype": "text/x-python",
   "name": "python",
   "nbconvert_exporter": "python",
   "pygments_lexer": "ipython3",
   "version": "3.9.16"
  }
 },
 "nbformat": 4,
 "nbformat_minor": 5
}
